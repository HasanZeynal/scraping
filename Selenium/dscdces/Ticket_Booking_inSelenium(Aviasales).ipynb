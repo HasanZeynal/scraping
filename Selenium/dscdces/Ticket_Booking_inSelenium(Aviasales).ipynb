{
 "cells": [
  {
   "cell_type": "code",
   "execution_count": 1,
   "id": "13bcc14c-b295-41d0-9251-8a2039f8161a",
   "metadata": {},
   "outputs": [],
   "source": [
    "from tqdm import tqdm\n",
    "import pandas as pd\n",
    "import requests\n",
    "from bs4 import BeautifulSoup\n",
    "import regex as re\n",
    "import time\n",
    "fvvf\n",
    "from selenium import webdriver\n",
    "from selenium.webdriver.common.by import By\n",
    "from webdriver_manager.chrome import ChromeDriverManager\n",
    "from selenium.webdriver.support.ui import WebDriverWait\n",
    "from selenium.webdriver.common.keys import Keys\n",
    "from selenium.webdriver.support import expected_conditions as EC\n",
    "from selenium.common.exceptions import NoSuchElementException\n",
    "from selenium.webdriver.chrome.service import Service\n",
    "# ChromeDriver yolunu təyin edirik\n"
   ]
  },
  {
   "cell_type": "code",
   "execution_count": 19,
   "id": "fcf88be3-e961-4493-a928-ae7641c384d9",
   "metadata": {},
   "outputs": [],
   "source": [
    "driver_path = \"C:\\\\Users\\\\saida\\\\OneDrive\\\\İş masası\\\\driver\\\\chromedriver-win64\\\\chromedriver.exe\"\n",
    "service = Service(driver_path)\n",
    "driver = webdriver.Chrome(service=service)\n",
    "\n",
    "url = 'https://www.aviasales.az/?marker=186703.google_ppc_az_BAK_sr_bd_a-all_lang-az&utm_source=ga&utm_medium=cpc&utm_campaign_id=21067035780&utm_adgroup_id=160006635016&utm_content_id=692584564743&term_match_type=e&utm_term=aviasales&utm_term_id=kwd-42393665022&network=g&placement=&position=&device=c.&geo=.1000998&gad_source=1&gclid=CjwKCAiA-ty8BhA_EiwAkyoa37iyEeUafbu687hbjDgCedmwjwEtvWDB4P2z0scfQxLO7EKBCsWurBoCs1kQAvD_BwE&params=BAK1'\n",
    "driver.get(url)\n",
    "\n",
    "driver.find_element(By.XPATH,\n",
    "                    '//*[@id=\"avia_form_destination-input\"]').click()\n",
    "\n"
   ]
  },
  {
   "cell_type": "code",
   "execution_count": 22,
   "id": "bb9888cb-b3f0-4479-a344-9c2c10ce0397",
   "metadata": {},
   "outputs": [
    {
     "name": "stdin",
     "output_type": "stream",
     "text": [
      "Which city do u wanna go? Moscow\n"
     ]
    }
   ],
   "source": [
    "choosen_country = input('Which city do u wanna go?')\n",
    "driver.find_element(By.CLASS_NAME, 's__WjEwm7RKILTXwVcF6SWL').send_keys(choosen_country)\n",
    "\n",
    "driver.find_element(By.CLASS_NAME, \n",
    "            's__PFpXoB8Er78MFmktO032').click()"
   ]
  },
  {
   "cell_type": "code",
   "execution_count": 44,
   "id": "9cb19f0d-da7e-4ee7-87f9-926629e79cfa",
   "metadata": {},
   "outputs": [],
   "source": [
    "driver.find_elements(By.CLASS_NAME, 's__RAK9m7UbLv7mGjEkx44g')[30].click()"
   ]
  },
  {
   "cell_type": "code",
   "execution_count": 45,
   "id": "38371046-35cb-43a1-a09d-e1bd31df941a",
   "metadata": {},
   "outputs": [
    {
     "data": {
      "text/plain": [
       "'s__hozqdl8_u1owv7f58Vov s__HLWgkBC9TdsHSs4C7GgX s__xdkwycDyyPyqv99LG7RA'"
      ]
     },
     "execution_count": 45,
     "metadata": {},
     "output_type": "execute_result"
    }
   ],
   "source": [
    "'s__hozqdl8_u1owv7f58Vov s__HLWgkBC9TdsHSs4C7GgX s__xdkwycDyyPyqv99LG7RA'"
   ]
  },
  {
   "cell_type": "code",
   "execution_count": 58,
   "id": "ad16f223-b835-4c27-9b6b-681a7eca9557",
   "metadata": {},
   "outputs": [],
   "source": [
    "all_possible_dates = [i.text for i in driver.find_elements(By.CLASS_NAME, 's__RAK9m7UbLv7mGjEkx44g')]"
   ]
  },
  {
   "cell_type": "code",
   "execution_count": 100,
   "id": "a47dc12f-fc7e-480f-b39c-36e30ce8994d",
   "metadata": {},
   "outputs": [
    {
     "name": "stderr",
     "output_type": "stream",
     "text": [
      "100%|██████████| 12/12 [00:00<?, ?it/s]\n"
     ]
    }
   ],
   "source": [
    "all_possible_dates = [i.text for i in driver.find_elements(By.CLASS_NAME, 's__RAK9m7UbLv7mGjEkx44g')][:-35]\n",
    "\n",
    "months = [' Yanvar', ' Fevral', ' Mart', ' Aprel', ' May', ' Iyun', ' Iyul', ' Avgust',\n",
    "         ' Sentyabr', ' Oktyabr', ' Noyabr', ' Dekabr']\n",
    "\n",
    "count_for_month = 0\n",
    "count_for_dates = 0\n",
    "for i in tqdm(range(12)):\n",
    "    \n",
    "    # all_possible_dates[count_for_dates] =  all_possible_dates[count_for_dates] + months[count_for_month]\n",
    "    if count_for_month == 2 or count_for_month == 5:\n",
    "        for k in range(42):\n",
    "            all_possible_dates[count_for_dates] =  all_possible_dates[count_for_dates] + months[i]\n",
    "            count_for_dates+= 1\n",
    "    else:\n",
    "        for j in range(35):\n",
    "        \n",
    "            all_possible_dates[count_for_dates] =  all_possible_dates[count_for_dates] + months[i]\n",
    "            count_for_dates+= 1\n",
    "        \n",
    "    count_for_month += 1   "
   ]
  },
  {
   "cell_type": "code",
   "execution_count": null,
   "id": "43d2afb3-bef2-40a0-9412-c26add5ce2ae",
   "metadata": {},
   "outputs": [],
   "source": []
  },
  {
   "cell_type": "code",
   "execution_count": null,
   "id": "295bfba4-fe6a-4d83-bdcb-a1635106fe85",
   "metadata": {},
   "outputs": [],
   "source": []
  },
  {
   "cell_type": "code",
   "execution_count": 112,
   "id": "6be208dc-9eeb-4ce5-a347-158d6141f7f6",
   "metadata": {},
   "outputs": [
    {
     "name": "stdin",
     "output_type": "stream",
     "text": [
      "From when? 1 Iyul\n"
     ]
    },
    {
     "data": {
      "text/plain": [
       "225"
      ]
     },
     "execution_count": 112,
     "metadata": {},
     "output_type": "execute_result"
    }
   ],
   "source": [
    "from_ = input('From when?')\n",
    "all_possible_dates.index(from_)"
   ]
  },
  {
   "cell_type": "code",
   "execution_count": 156,
   "id": "afbd3316-1c0c-4c3b-98ba-8628ed2d0800",
   "metadata": {},
   "outputs": [],
   "source": [
    "driver.find_elements(By.CLASS_NAME, 's__RAK9m7UbLv7mGjEkx44g')[225].click()"
   ]
  },
  {
   "cell_type": "code",
   "execution_count": null,
   "id": "93eb94cc-b2af-4f69-9cf2-07ed0c51f8f1",
   "metadata": {},
   "outputs": [],
   "source": []
  },
  {
   "cell_type": "code",
   "execution_count": 169,
   "id": "6d6582fd-9bcf-448c-9fd8-761aca5dc18b",
   "metadata": {},
   "outputs": [],
   "source": []
  },
  {
   "cell_type": "code",
   "execution_count": 202,
   "id": "e751401d-93e3-4f1c-aa41-a7a60b0e26b7",
   "metadata": {},
   "outputs": [],
   "source": [
    "driver.find_elements(By.CLASS_NAME, 's__RAK9m7UbLv7mGjEkx44g')[200].click()\n"
   ]
  },
  {
   "cell_type": "code",
   "execution_count": 203,
   "id": "55096d9b-dc7b-497f-b255-5bd6166f12a5",
   "metadata": {},
   "outputs": [],
   "source": [
    "driver.find_element(By.XPATH,\n",
    "            '//*[@id=\"avs-modal-container\"]/div/div/div/div/div[1]/header/button').click()"
   ]
  },
  {
   "cell_type": "code",
   "execution_count": 204,
   "id": "eb65c70e-f2e9-4fe9-bfc9-f58277dcc946",
   "metadata": {},
   "outputs": [],
   "source": [
    "driver.find_elements(By.CLASS_NAME,\n",
    "'s__Ri8DaLigC3WqN5MS5LyK')[1].click()"
   ]
  },
  {
   "cell_type": "code",
   "execution_count": 205,
   "id": "9e47a781-75be-4a26-b280-07a0797e57e0",
   "metadata": {},
   "outputs": [],
   "source": [
    "driver.find_elements(By.CLASS_NAME, 's__RAK9m7UbLv7mGjEkx44g')[207].click()\n"
   ]
  },
  {
   "cell_type": "code",
   "execution_count": 207,
   "id": "2bdd13cb-a5ff-4456-ac23-4154d34b9a0f",
   "metadata": {},
   "outputs": [],
   "source": [
    "driver.find_element(By.XPATH,\n",
    "        '/html/body/div[1]/div/div[2]/div[2]/div[3]/div/form/div[4]/button').click()"
   ]
  },
  {
   "cell_type": "code",
   "execution_count": null,
   "id": "9862d535-d829-495a-8f6a-18b99ab3b0da",
   "metadata": {},
   "outputs": [],
   "source": []
  }
 ],
 "metadata": {
  "kernelspec": {
   "display_name": "Python 3 (ipykernel)",
   "language": "python",
   "name": "python3"
  },
  "language_info": {
   "codemirror_mode": {
    "name": "ipython",
    "version": 3
   },
   "file_extension": ".py",
   "mimetype": "text/x-python",
   "name": "python",
   "nbconvert_exporter": "python",
   "pygments_lexer": "ipython3",
   "version": "3.12.7"
  }
 },
 "nbformat": 4,
 "nbformat_minor": 5
}
