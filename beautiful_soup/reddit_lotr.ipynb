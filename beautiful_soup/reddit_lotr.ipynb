{
 "cells": [
  {
   "cell_type": "markdown",
   "id": "494e24f6",
   "metadata": {},
   "source": [
    "# Description: You are asked to scrape the reddit site. Take any subtopic of reddit and scrape 4 main concepts from the site:"
   ]
  },
  {
   "cell_type": "markdown",
   "id": "5576602d",
   "metadata": {},
   "source": [
    "**1) Header of the each posts**\n",
    "\n",
    "**2) Votes of the each posts**\n",
    "\n",
    "**3) Dates of the each posts**\n",
    "\n",
    "**4) Links of the each posts**"
   ]
  },
  {
   "cell_type": "markdown",
   "id": "a7778e4a",
   "metadata": {},
   "source": [
    "# Finally, create a csv file which contains all mentioned columns. Your result should be nearly same as below."
   ]
  },
  {
   "cell_type": "code",
   "execution_count": 1,
   "id": "d3d6e9eb",
   "metadata": {},
   "outputs": [],
   "source": [
    "import requests\n",
    "from bs4 import BeautifulSoup\n",
    "import pandas as pd"
   ]
  },
  {
   "cell_type": "code",
   "execution_count": 2,
   "id": "d58fcd65",
   "metadata": {},
   "outputs": [],
   "source": [
    "url = 'https://www.reddit.com/r/lordoftherings/'\n",
    "headers = {\"User-Agent\":\"Mozilla/5.0 (Macintosh; Intel Mac OS X 10_15_4) AppleWebKit/537.36 (KHTML, like Gecko) Chrome/83.0.4103.97 Safari/537.36\"}\n",
    "response = requests.get(url,headers = headers)\n",
    "reddit_lotr = BeautifulSoup(response.text,'html.parser',)"
   ]
  },
  {
   "cell_type": "code",
   "execution_count": 3,
   "id": "2a00728b",
   "metadata": {},
   "outputs": [
    {
     "data": {
      "text/plain": [
       "['My oil painting of fellowship leaving Rivendell. Oil on canvas.',\n",
       " 'My new oil painting of Morgoth fighting Fingolfin. Oil on canvas',\n",
       " 'Sorry, what?',\n",
       " 'How did it come to this?',\n",
       " 'Unblinking Eye requires moisture.',\n",
       " 'A first edition copy of The Hobbit on Antiques Roadshow in 1990']"
      ]
     },
     "execution_count": 3,
     "metadata": {},
     "output_type": "execute_result"
    }
   ],
   "source": [
    "header = []\n",
    "header_names  = reddit_lotr.findAll('h3',attrs = {\"class\":\"_eYtD2XCVieq6emjKBH3m\"})\n",
    "for names in header_names:\n",
    "    header.append(names.text)\n",
    "header.pop(3)\n",
    "header"
   ]
  },
  {
   "cell_type": "code",
   "execution_count": 4,
   "id": "bd93072e",
   "metadata": {},
   "outputs": [
    {
     "data": {
      "text/plain": [
       "['805', '1.2k', '245', '547', '687', '1.5k']"
      ]
     },
     "execution_count": 4,
     "metadata": {},
     "output_type": "execute_result"
    }
   ],
   "source": [
    "posts_votes = []\n",
    "votes = reddit_lotr.find_all('div',class_='_1E9mcoVn4MYnuBQSVDt1gC _2oM1YqCxIwkvwyeZamWwhW uFwpR-OdmueYZxdY_rEDX')\n",
    "for vote in votes:\n",
    "    posts_votes.append(vote.text)\n",
    "posts_votes2 = list(map(lambda x: x.replace('Vote','0'),posts_votes))\n",
    "posts_votes2.pop(3)\n",
    "posts_votes2"
   ]
  },
  {
   "cell_type": "code",
   "execution_count": 5,
   "id": "532c794b",
   "metadata": {},
   "outputs": [
    {
     "data": {
      "text/plain": [
       "['23 days ago', '16 days ago', '10 hours ago', '1 day ago', '1 day ago']"
      ]
     },
     "execution_count": 5,
     "metadata": {},
     "output_type": "execute_result"
    }
   ],
   "source": [
    "posts_date = []\n",
    "dates = reddit_lotr.find_all('span',class_ = '_2VF2J19pUIMSLJFky-7PEI')\n",
    "for date in dates:\n",
    "    posts_date.append(date.text)\n",
    "posts_date.pop(3)\n",
    "posts_date"
   ]
  },
  {
   "cell_type": "code",
   "execution_count": 10,
   "id": "0e28a705",
   "metadata": {},
   "outputs": [
    {
     "data": {
      "text/plain": [
       "['https://www.reddit.com/r/lordoftherings/comments/z78bxn/my_oil_painting_of_fellowship_leaving_rivendell/',\n",
       " 'https://www.reddit.com/r/lordoftherings/comments/ze6zic/my_new_oil_painting_of_morgoth_fighting_fingolfin/',\n",
       " 'https://www.reddit.com/r/lordoftherings/comments/zs0zhi/sorry_what/',\n",
       " 'https://www.reddit.com/r/lordoftherings/comments/zrsrcw/how_did_it_come_to_this/',\n",
       " 'https://www.reddit.com/r/lordoftherings/comments/zrcmyu/unblinking_eye_requires_moisture/',\n",
       " 'https://www.reddit.com/r/lordoftherings/comments/zr73x5/a_first_edition_copy_of_the_hobbit_on_antiques/']"
      ]
     },
     "execution_count": 10,
     "metadata": {},
     "output_type": "execute_result"
    }
   ],
   "source": [
    "posts_links = []\n",
    "links = reddit_lotr.find_all('div',class_ = 'y8HYJ-y_lTUHkQIc1mdCq _2INHSNB8V5eaWp4P0rY_mE')\n",
    "for link in links:\n",
    "    link = 'https://www.reddit.com'+link.find('a').get('href')\n",
    "    posts_links.append(link)\n",
    "posts_links.pop(3)\n",
    "posts_links"
   ]
  },
  {
   "cell_type": "code",
   "execution_count": 11,
   "id": "91553324",
   "metadata": {},
   "outputs": [],
   "source": [
    "reddit_lotr_info_list = list(zip(header,posts_votes2,posts_date,posts_links))"
   ]
  },
  {
   "cell_type": "code",
   "execution_count": 12,
   "id": "4d5c1e52",
   "metadata": {},
   "outputs": [],
   "source": [
    "columns = ['Headers','Votes','Dates','Links']\n",
    "reddit_lotr_info_list = list(zip(header,posts_votes2,posts_date,posts_links))\n",
    "reddit_lotr_info = pd.DataFrame(reddit_lotr_info_list,columns = columns)"
   ]
  },
  {
   "cell_type": "code",
   "execution_count": 13,
   "id": "4f92a1dd",
   "metadata": {},
   "outputs": [],
   "source": [
    "pd.set_option('max_colwidth',None)"
   ]
  },
  {
   "cell_type": "code",
   "execution_count": 14,
   "id": "220e32f7",
   "metadata": {},
   "outputs": [
    {
     "data": {
      "text/html": [
       "<div>\n",
       "<style scoped>\n",
       "    .dataframe tbody tr th:only-of-type {\n",
       "        vertical-align: middle;\n",
       "    }\n",
       "\n",
       "    .dataframe tbody tr th {\n",
       "        vertical-align: top;\n",
       "    }\n",
       "\n",
       "    .dataframe thead th {\n",
       "        text-align: right;\n",
       "    }\n",
       "</style>\n",
       "<table border=\"1\" class=\"dataframe\">\n",
       "  <thead>\n",
       "    <tr style=\"text-align: right;\">\n",
       "      <th></th>\n",
       "      <th>Headers</th>\n",
       "      <th>Votes</th>\n",
       "      <th>Dates</th>\n",
       "      <th>Links</th>\n",
       "    </tr>\n",
       "  </thead>\n",
       "  <tbody>\n",
       "    <tr>\n",
       "      <th>0</th>\n",
       "      <td>My oil painting of fellowship leaving Rivendell. Oil on canvas.</td>\n",
       "      <td>805</td>\n",
       "      <td>23 days ago</td>\n",
       "      <td>https://www.reddit.com/r/lordoftherings/comments/z78bxn/my_oil_painting_of_fellowship_leaving_rivendell/</td>\n",
       "    </tr>\n",
       "    <tr>\n",
       "      <th>1</th>\n",
       "      <td>My new oil painting of Morgoth fighting Fingolfin. Oil on canvas</td>\n",
       "      <td>1.2k</td>\n",
       "      <td>16 days ago</td>\n",
       "      <td>https://www.reddit.com/r/lordoftherings/comments/ze6zic/my_new_oil_painting_of_morgoth_fighting_fingolfin/</td>\n",
       "    </tr>\n",
       "    <tr>\n",
       "      <th>2</th>\n",
       "      <td>Sorry, what?</td>\n",
       "      <td>245</td>\n",
       "      <td>10 hours ago</td>\n",
       "      <td>https://www.reddit.com/r/lordoftherings/comments/zs0zhi/sorry_what/</td>\n",
       "    </tr>\n",
       "    <tr>\n",
       "      <th>3</th>\n",
       "      <td>How did it come to this?</td>\n",
       "      <td>547</td>\n",
       "      <td>1 day ago</td>\n",
       "      <td>https://www.reddit.com/r/lordoftherings/comments/zrsrcw/how_did_it_come_to_this/</td>\n",
       "    </tr>\n",
       "    <tr>\n",
       "      <th>4</th>\n",
       "      <td>Unblinking Eye requires moisture.</td>\n",
       "      <td>687</td>\n",
       "      <td>1 day ago</td>\n",
       "      <td>https://www.reddit.com/r/lordoftherings/comments/zrcmyu/unblinking_eye_requires_moisture/</td>\n",
       "    </tr>\n",
       "  </tbody>\n",
       "</table>\n",
       "</div>"
      ],
      "text/plain": [
       "                                                            Headers Votes  \\\n",
       "0   My oil painting of fellowship leaving Rivendell. Oil on canvas.   805   \n",
       "1  My new oil painting of Morgoth fighting Fingolfin. Oil on canvas  1.2k   \n",
       "2                                                      Sorry, what?   245   \n",
       "3                                          How did it come to this?   547   \n",
       "4                                 Unblinking Eye requires moisture.   687   \n",
       "\n",
       "          Dates  \\\n",
       "0   23 days ago   \n",
       "1   16 days ago   \n",
       "2  10 hours ago   \n",
       "3     1 day ago   \n",
       "4     1 day ago   \n",
       "\n",
       "                                                                                                        Links  \n",
       "0    https://www.reddit.com/r/lordoftherings/comments/z78bxn/my_oil_painting_of_fellowship_leaving_rivendell/  \n",
       "1  https://www.reddit.com/r/lordoftherings/comments/ze6zic/my_new_oil_painting_of_morgoth_fighting_fingolfin/  \n",
       "2                                         https://www.reddit.com/r/lordoftherings/comments/zs0zhi/sorry_what/  \n",
       "3                            https://www.reddit.com/r/lordoftherings/comments/zrsrcw/how_did_it_come_to_this/  \n",
       "4                   https://www.reddit.com/r/lordoftherings/comments/zrcmyu/unblinking_eye_requires_moisture/  "
      ]
     },
     "execution_count": 14,
     "metadata": {},
     "output_type": "execute_result"
    }
   ],
   "source": [
    "reddit_lotr_info"
   ]
  },
  {
   "cell_type": "code",
   "execution_count": 15,
   "id": "5411554c",
   "metadata": {},
   "outputs": [],
   "source": [
    "reddit_lotr_info = reddit_lotr_info.to_csv('reddit_lotr_info.csv')"
   ]
  }
 ],
 "metadata": {
  "kernelspec": {
   "display_name": "Python 3 (ipykernel)",
   "language": "python",
   "name": "python3"
  },
  "language_info": {
   "codemirror_mode": {
    "name": "ipython",
    "version": 3
   },
   "file_extension": ".py",
   "mimetype": "text/x-python",
   "name": "python",
   "nbconvert_exporter": "python",
   "pygments_lexer": "ipython3",
   "version": "3.9.12"
  }
 },
 "nbformat": 4,
 "nbformat_minor": 5
}
